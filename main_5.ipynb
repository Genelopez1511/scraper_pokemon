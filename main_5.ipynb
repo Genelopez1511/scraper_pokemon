{
 "cells": [
  {
   "cell_type": "code",
   "execution_count": 15,
   "metadata": {},
   "outputs": [
    {
     "name": "stdout",
     "output_type": "stream",
     "text": [
      "\n",
      "\n",
      "<div title=\"buyer-name\">Carson Busses</div>\n",
      "\n",
      "\n",
      "<span class=\"item-price\">$29.95</span>\n",
      "<br/>\n",
      "\n",
      "\n",
      "['\\n', <div title=\"buyer-name\">Carson Busses</div>, '\\n', <span class=\"item-price\">$29.95</span>, <br/>, '\\n']\n",
      "<list_iterator object at 0x7f12643e3f10>\n"
     ]
    }
   ],
   "source": [
    "# nodos hijos\n",
    "\n",
    "from bs4 import BeautifulSoup\n",
    "\n",
    "if __name__=='__main__': \n",
    "\n",
    "    with open ('econpy.html', 'r') as f:  \n",
    "        content = f.read()\n",
    "\n",
    "        soup = BeautifulSoup(content, 'html.parser') \n",
    "        div = soup.find('div', {'title': 'buyer-info'}) \n",
    "        # print(div.contents) # print the contents of the div\n",
    "\n",
    "        # div_item = div.contents[1] # get the second item in the list\n",
    "        # span_item = div.contents[3] # get the third item in the list\n",
    "\n",
    "        # print(div_item.text,span_item.text) # print the text of the div and the span\n",
    "\n",
    "        for child in div.children:\n",
    "            print(child)\n",
    "\n",
    "        print(div.contents) # lista que almacena todos los nodos hijos de div\n",
    "        print(div.children) # sera un iterador como su nombre lo indica podemos iterar sobre todos los nodos hijos de div\n",
    "\n",
    "\n"
   ]
  }
 ],
 "metadata": {
  "interpreter": {
   "hash": "65b0796229cbd8a2e61bf42201827f493d81a5ad336c87ff3c7b390b2cacb211"
  },
  "kernelspec": {
   "display_name": "Python 3.8.12 64-bit ('web_scraping': conda)",
   "language": "python",
   "name": "python3"
  },
  "language_info": {
   "codemirror_mode": {
    "name": "ipython",
    "version": 3
   },
   "file_extension": ".py",
   "mimetype": "text/x-python",
   "name": "python",
   "nbconvert_exporter": "python",
   "pygments_lexer": "ipython3",
   "version": "3.8.12"
  },
  "orig_nbformat": 4
 },
 "nbformat": 4,
 "nbformat_minor": 2
}
