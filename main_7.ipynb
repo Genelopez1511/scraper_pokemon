{
 "cells": [
  {
   "cell_type": "code",
   "execution_count": 6,
   "metadata": {},
   "outputs": [
    {
     "name": "stdout",
     "output_type": "stream",
     "text": [
      "div\n",
      "div\n",
      "body\n",
      "html\n",
      "[document]\n"
     ]
    }
   ],
   "source": [
    "# nodos padres\n",
    "\n",
    "from bs4 import BeautifulSoup\n",
    "\n",
    "if __name__=='__main__': \n",
    "\n",
    "    with open ('econpy.html', 'r') as f:  \n",
    "        content = f.read()\n",
    "\n",
    "        soup = BeautifulSoup(content, 'html.parser') \n",
    "\n",
    "        span = soup.find('span', class_ = 'item-price')\n",
    "        print(span.parent.name)\n",
    "\n",
    "        # reccorrer todos los nodos padres de una etiqueta\n",
    "        # #parent\n",
    "        # #parents\t\n",
    "\n",
    "        for parents in span.parents:\n",
    "                print(parents.name)"
   ]
  }
 ],
 "metadata": {
  "interpreter": {
   "hash": "65b0796229cbd8a2e61bf42201827f493d81a5ad336c87ff3c7b390b2cacb211"
  },
  "kernelspec": {
   "display_name": "Python 3.8.12 64-bit ('web_scraping': conda)",
   "language": "python",
   "name": "python3"
  },
  "language_info": {
   "codemirror_mode": {
    "name": "ipython",
    "version": 3
   },
   "file_extension": ".py",
   "mimetype": "text/x-python",
   "name": "python",
   "nbconvert_exporter": "python",
   "pygments_lexer": "ipython3",
   "version": "3.8.12"
  },
  "orig_nbformat": 4
 },
 "nbformat": 4,
 "nbformat_minor": 2
}
