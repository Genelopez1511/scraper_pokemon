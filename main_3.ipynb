{
 "cells": [
  {
   "cell_type": "code",
   "execution_count": 25,
   "metadata": {},
   "outputs": [
    {
     "name": "stdout",
     "output_type": "stream",
     "text": [
      "Carson Busses $29.95\n",
      "Earl E. Byrd $8.37\n",
      "Patty Cakes $15.26\n",
      "Derri Anne Connecticut $19.25\n",
      "Moe Dess $19.25\n",
      "Leda Doggslife $13.99\n",
      "Dan Druff $31.57\n",
      "Al Fresco $8.49\n",
      "Ido Hoe $14.47\n",
      "Howie Kisses $15.86\n",
      "Len Lease $11.11\n",
      "Phil Meup $15.98\n",
      "Ira Pent $16.27\n",
      "Ben D. Rules $7.50\n",
      "Ave Sectomy $50.85\n",
      "Gary Shattire $14.26\n",
      "Bobbi Soks $5.68\n",
      "Sheila Takya $15.00\n",
      "Rose Tattoo $114.07\n",
      "Moe Tell $10.09\n"
     ]
    }
   ],
   "source": [
    "from bs4 import BeautifulSoup\n",
    "\n",
    "if __name__=='__main__': \n",
    "\n",
    "    with open ('econpy.html', 'r') as f:  \n",
    "        content = f.read()\n",
    "\n",
    "        soup = BeautifulSoup(content, 'html.parser') # html.parser is the parser used by BeautifulSoup\n",
    "      # find\n",
    "        for element in soup.find_all('div', {'title': 'buyer-info'}): # segundo parametro es un diccionario\n",
    "\n",
    "\n",
    "# utilizamos el elemento find para buscar dentro del html\n",
    "\n",
    "            # div = element.find('div') # find the first div\n",
    "            # span = element.find('span') # find the first span\n",
    "            # print(div.text,span.get_text())# print the text of the div and span\n",
    "\n",
    "# obtenemos resultadospor los elementos hijos de un elemento padre\n",
    "            div = element.div # find the first div\n",
    "            span = element.span # find the first span\n",
    "            print(div.text,span.text)# print the text of the div and span\n",
    "\n",
    "\n",
    "\n",
    "\n",
    "       \n",
    "    \n",
    "\n"
   ]
  }
 ],
 "metadata": {
  "interpreter": {
   "hash": "65b0796229cbd8a2e61bf42201827f493d81a5ad336c87ff3c7b390b2cacb211"
  },
  "kernelspec": {
   "display_name": "Python 3.8.12 64-bit ('web_scraping': conda)",
   "language": "python",
   "name": "python3"
  },
  "language_info": {
   "codemirror_mode": {
    "name": "ipython",
    "version": 3
   },
   "file_extension": ".py",
   "mimetype": "text/x-python",
   "name": "python",
   "nbconvert_exporter": "python",
   "pygments_lexer": "ipython3",
   "version": "3.8.12"
  },
  "orig_nbformat": 4
 },
 "nbformat": 4,
 "nbformat_minor": 2
}
