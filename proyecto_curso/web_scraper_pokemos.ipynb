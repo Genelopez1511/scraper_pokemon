{
 "cells": [
  {
   "cell_type": "code",
   "execution_count": 9,
   "metadata": {},
   "outputs": [],
   "source": [
    "# import bookstores\n",
    "\n",
    "import requests\n",
    "from bs4 import BeautifulSoup"
   ]
  },
  {
   "cell_type": "code",
   "execution_count": 15,
   "metadata": {},
   "outputs": [
    {
     "name": "stdout",
     "output_type": "stream",
     "text": [
      "Bulbasaur - Grass Poison - Seed Pokémon\n",
      "Ivysaur - Grass Poison - Seed Pokémon\n",
      "Venusaur - Grass Poison - Seed Pokémon\n",
      "Venusaur - Grass Poison - Seed Pokémon\n",
      "Charmander - Fire - Lizard Pokémon\n"
     ]
    }
   ],
   "source": [
    "# URL de la página web\n",
    "domain = 'https://pokemondb.net/'\n",
    "url = 'https://pokemondb.net/pokedex/all' # url de la pagina web\n",
    "\n",
    "def get_content(url):\n",
    "    response = requests.get(url)\n",
    "\n",
    "    if response.status_code == 200:\n",
    "        content = response.text\n",
    "\n",
    "        soup= BeautifulSoup(content, 'html.parser')\n",
    "        return soup\n",
    "    else:\n",
    "        return None\n",
    "\n",
    "def get_species_pokemon(url):\n",
    "    soup= get_content(url)\n",
    "\n",
    "    table = soup.find('table', class_='vitals-table') # busca la tabla con id pokedex\n",
    "    species = table.tbody.find_all('tr') [2].td.text # busca la columna 3 de la tabla\n",
    "    return species\n",
    "\n",
    "\n",
    "if __name__ == '__main__':\n",
    "    soup = get_content(domain+url)\n",
    "\n",
    "    table = soup.find('table', {'id': 'pokedex'}) # busca la tabla con id pokedex\n",
    "\n",
    "\n",
    "    for fila in table.tbody.find_all('tr', limit=5): # recorre todas las filas de la tabla\n",
    "            columns = fila.find_all('td', limit=3) # busca todas las columnas de la tabla td # limita a 3 columnas\n",
    "\n",
    "            name = columns[1].a.text # busca el texto de la columna 1 y la columna 2\n",
    "            type_1 = [a.text for a in columns[2].find_all('a')] \n",
    "            link = domain + columns[1].a['href'] # Nueva url que le realizaremos una peticion para encontrar la especie de pokemon\n",
    "            species = get_species_pokemon(link)\n",
    "\n",
    "            print(name, '-', *type_1, '-', species)\n"
   ]
  }
 ],
 "metadata": {
  "interpreter": {
   "hash": "65b0796229cbd8a2e61bf42201827f493d81a5ad336c87ff3c7b390b2cacb211"
  },
  "kernelspec": {
   "display_name": "Python 3.8.12 64-bit ('web_scraping': conda)",
   "language": "python",
   "name": "python3"
  },
  "language_info": {
   "codemirror_mode": {
    "name": "ipython",
    "version": 3
   },
   "file_extension": ".py",
   "mimetype": "text/x-python",
   "name": "python",
   "nbconvert_exporter": "python",
   "pygments_lexer": "ipython3",
   "version": "3.8.12"
  },
  "orig_nbformat": 4
 },
 "nbformat": 4,
 "nbformat_minor": 2
}
