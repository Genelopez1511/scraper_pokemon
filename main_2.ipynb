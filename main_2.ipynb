{
 "cells": [
  {
   "cell_type": "code",
   "execution_count": 18,
   "metadata": {},
   "outputs": [],
   "source": [
    "import requests\n",
    "from selenium import webdriver\n",
    "from webdriver_manager.chrome import ChromeDriverManager # controlador de Chrome  \n",
    "from selenium.webdriver.support import expected_conditions as EC # método para escribir códigos que esperan hasta que ciertas condiciones sean cumplidas\n",
    "from selenium.webdriver.support.ui import WebDriverWait # método para escribir códigos que utilizan esperas implícitas o explícitas\n",
    "from selenium.webdriver.common.by import By # método para localizar elementos por sus atributos HTML\n",
    "from selenium.webdriver import ActionChains # módulo para implementar interacciones con el navegador from selenium import webdriver\n",
    "from selenium.webdriver.chrome.options import Options\n",
    "import re"
   ]
  },
  {
   "cell_type": "code",
   "execution_count": 19,
   "metadata": {},
   "outputs": [],
   "source": [
    "chrome_options = Options()\n",
    "chrome_options.add_argument('--headless')\n",
    "chrome_options.add_argument('--no-sandbox')\n",
    "chrome_options.add_argument('--disable-dev-shm-usage')"
   ]
  },
  {
   "cell_type": "code",
   "execution_count": 20,
   "metadata": {},
   "outputs": [],
   "source": [
    "chrome_options = Options()\n",
    "chrome_options.add_argument('--headless')\n",
    "chrome_options.add_argument('--no-sandbox')\n",
    "chrome_options.add_argument('--disable-dev-shm-usage')"
   ]
  },
  {
   "cell_type": "code",
   "execution_count": 21,
   "metadata": {},
   "outputs": [
    {
     "name": "stderr",
     "output_type": "stream",
     "text": [
      "[WDM] - Current google-chrome version is 97.0.4692\n",
      "[WDM] - Get LATEST driver version for 97.0.4692\n"
     ]
    },
    {
     "name": "stdout",
     "output_type": "stream",
     "text": [
      " \n"
     ]
    },
    {
     "name": "stderr",
     "output_type": "stream",
     "text": [
      "[WDM] - Driver [/home/genesis/.wdm/drivers/chromedriver/linux64/97.0.4692.71/chromedriver] found in cache\n"
     ]
    }
   ],
   "source": [
    "# Inicializa la página web en el navegador Chrome\n",
    "driver = webdriver.Chrome(ChromeDriverManager().install(),chrome_options=chrome_options)\n",
    "url = 'http://econpy.pythonanywhere.com/ex/001.html'\n",
    "driver.get(url)"
   ]
  },
  {
   "cell_type": "code",
   "execution_count": 23,
   "metadata": {},
   "outputs": [
    {
     "name": "stdout",
     "output_type": "stream",
     "text": [
      "Carson Busses\n",
      "Earl E. Byrd\n",
      "Patty Cakes\n",
      "Derri Anne Connecticut\n",
      "Moe Dess\n",
      "Leda Doggslife\n",
      "Dan Druff\n",
      "Al Fresco\n",
      "Ido Hoe\n",
      "Howie Kisses\n",
      "Len Lease\n",
      "Phil Meup\n",
      "Ira Pent\n",
      "Ben D. Rules\n",
      "Ave Sectomy\n",
      "Gary Shattire\n",
      "Bobbi Soks\n",
      "Sheila Takya\n",
      "Rose Tattoo\n",
      "Moe Tell\n"
     ]
    }
   ],
   "source": [
    "if __name__=='__main__': # método principal\n",
    "    response = requests.get(url) # obtiene la página web\n",
    "\n",
    "    if response.status_code == 200: # si la página web se encuentra disponible\n",
    "        content = response.text # obtiene el contenido de la +página web\n",
    "        \n",
    "        regex = '<div title=\"buyer-name\">(.+?)</div>' # expresión regular para obtener el nombre del comprador de nuestro sitio web\n",
    "        #Una expresión regular es una cadena de caracteres que es utilizada para describir o encontrar patrones dentro de otros strings, en base al uso de delimitadores y ciertas reglas de sintaxis. De hecho, normalmente no es necesario usar expresiones regulares si vamos a textos exactos. ...\n",
    "        \n",
    "        for title in re.findall(regex, content): # recorre el contenido de la página web\n",
    "            print(title)\n",
    "    "
   ]
  }
 ],
 "metadata": {
  "interpreter": {
   "hash": "65b0796229cbd8a2e61bf42201827f493d81a5ad336c87ff3c7b390b2cacb211"
  },
  "kernelspec": {
   "display_name": "Python 3.8.12 64-bit ('web_scraping': conda)",
   "language": "python",
   "name": "python3"
  },
  "language_info": {
   "codemirror_mode": {
    "name": "ipython",
    "version": 3
   },
   "file_extension": ".py",
   "mimetype": "text/x-python",
   "name": "python",
   "nbconvert_exporter": "python",
   "pygments_lexer": "ipython3",
   "version": "3.8.12"
  },
  "orig_nbformat": 4
 },
 "nbformat": 4,
 "nbformat_minor": 2
}
