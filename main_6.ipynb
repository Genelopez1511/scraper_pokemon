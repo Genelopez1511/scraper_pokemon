{
 "cells": [
  {
   "cell_type": "code",
   "execution_count": 11,
   "metadata": {},
   "outputs": [
    {
     "name": "stdout",
     "output_type": "stream",
     "text": [
      "\n",
      "\n",
      "<span class=\"item-price\">$29.95</span>\n",
      "<br/>\n",
      "\n",
      "\n"
     ]
    }
   ],
   "source": [
    "# nodos hermanos\n",
    "\n",
    "from bs4 import BeautifulSoup\n",
    "\n",
    "if __name__=='__main__': \n",
    "\n",
    "    with open ('econpy.html', 'r') as f:  \n",
    "        content = f.read()\n",
    "\n",
    "        soup = BeautifulSoup(content, 'html.parser') \n",
    "\n",
    "        # utilizamos find\n",
    "\n",
    "        div = soup.find('div',string='Carson Busses')\n",
    "\n",
    "        # movernos entre nodos hermanos\n",
    "        #Next_sibling => siguiente hermano\n",
    "        #Previous_sibling => anterior hermano\n",
    "\n",
    "        # print(div.next_sibling.next_sibling) # prueba con next_sibling\n",
    "\n",
    "        # print(div.previous_sibling) # prueba con previous_sibling\n",
    "\n",
    "        # si queremos recorrer todos los hermanos\n",
    "\n",
    "        # next_siblings() => devuelve una lista con todos los hermanos\n",
    "        # previous_siblings() => devuelve una lista con todos los hermanos\n",
    "\n",
    "        for element in div.next_siblings:\n",
    "            print(element)\n",
    "            \n",
    "\n",
    "\n",
    "        "
   ]
  }
 ],
 "metadata": {
  "interpreter": {
   "hash": "65b0796229cbd8a2e61bf42201827f493d81a5ad336c87ff3c7b390b2cacb211"
  },
  "kernelspec": {
   "display_name": "Python 3.8.12 64-bit ('web_scraping': conda)",
   "language": "python",
   "name": "python3"
  },
  "language_info": {
   "codemirror_mode": {
    "name": "ipython",
    "version": 3
   },
   "file_extension": ".py",
   "mimetype": "text/x-python",
   "name": "python",
   "nbconvert_exporter": "python",
   "pygments_lexer": "ipython3",
   "version": "3.8.12"
  },
  "orig_nbformat": 4
 },
 "nbformat": 4,
 "nbformat_minor": 2
}
