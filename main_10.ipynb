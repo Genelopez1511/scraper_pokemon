{
 "cells": [
  {
   "cell_type": "code",
   "execution_count": 6,
   "metadata": {},
   "outputs": [
    {
     "name": "stdout",
     "output_type": "stream",
     "text": [
      "<div title=\"buyer-info\">\n",
      "<div title=\"buyer-name\">Carson Busses</div>\n",
      "<br/>\n",
      "</div>\n",
      "<span class=\"item-price\">$29.95</span>\n"
     ]
    }
   ],
   "source": [
    "#eliminar nodos\n",
    "\n",
    "from bs4 import BeautifulSoup\n",
    "\n",
    "if __name__=='__main__': \n",
    "\n",
    "    with open ('econpy.html', 'r') as f:  \n",
    "        content = f.read()\n",
    "        soup = BeautifulSoup(content, 'html.parser')\n",
    "\n",
    "        div = soup.find('div', {'title': 'buyer-info'})\n",
    "\n",
    "    # eliminar elemento previamente creado\n",
    "    # varias formas de hacerlo\n",
    "        # div.contents = []\n",
    "        # div.contents = list()\n",
    "      # la etiqueta soan ya no se encuentra en la etiqueta div\n",
    "        span = div.span.extract()\n",
    "        print(div)\n",
    "        # pero si imprimimos el objeto si la vamos a encontrar\n",
    "        print(span)\n",
    "\n",
    "\n",
    "\n",
    "        "
   ]
  }
 ],
 "metadata": {
  "interpreter": {
   "hash": "65b0796229cbd8a2e61bf42201827f493d81a5ad336c87ff3c7b390b2cacb211"
  },
  "kernelspec": {
   "display_name": "Python 3.8.12 64-bit ('web_scraping': conda)",
   "language": "python",
   "name": "python3"
  },
  "language_info": {
   "codemirror_mode": {
    "name": "ipython",
    "version": 3
   },
   "file_extension": ".py",
   "mimetype": "text/x-python",
   "name": "python",
   "nbconvert_exporter": "python",
   "pygments_lexer": "ipython3",
   "version": "3.8.12"
  },
  "orig_nbformat": 4
 },
 "nbformat": 4,
 "nbformat_minor": 2
}
