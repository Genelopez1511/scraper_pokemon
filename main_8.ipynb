{
 "cells": [
  {
   "cell_type": "code",
   "execution_count": 7,
   "metadata": {},
   "outputs": [],
   "source": [
    "\n",
    "# Modificar elementos del documento ( si este lo traimos a nuestra pc pues la maqueta)\n",
    "\n",
    "from bs4 import BeautifulSoup\n",
    "\n",
    "if __name__=='__main__': \n",
    "\n",
    "    with open ('econpy.html', 'r') as f:  \n",
    "        content = f.read()\n",
    "\n",
    "        soup = BeautifulSoup(content, 'html.parser') \n",
    "\n",
    "        div = soup.find('div', {'title': 'buyer-info'})\n",
    "        \n",
    "        div['id'] = 'item01'\n",
    "        div['title'] = 'nuevo_titulo'\n",
    "\n",
    "        div.div.string = 'CodigoFacilito'\n",
    "        div.span.string = '$39.95'\n",
    "\n",
    "        # print(soup.prettify())"
   ]
  }
 ],
 "metadata": {
  "interpreter": {
   "hash": "65b0796229cbd8a2e61bf42201827f493d81a5ad336c87ff3c7b390b2cacb211"
  },
  "kernelspec": {
   "display_name": "Python 3.8.12 64-bit ('web_scraping': conda)",
   "language": "python",
   "name": "python3"
  },
  "language_info": {
   "codemirror_mode": {
    "name": "ipython",
    "version": 3
   },
   "file_extension": ".py",
   "mimetype": "text/x-python",
   "name": "python",
   "nbconvert_exporter": "python",
   "pygments_lexer": "ipython3",
   "version": "3.8.12"
  },
  "orig_nbformat": 4
 },
 "nbformat": 4,
 "nbformat_minor": 2
}
