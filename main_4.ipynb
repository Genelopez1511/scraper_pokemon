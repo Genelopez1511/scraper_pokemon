{
 "cells": [
  {
   "cell_type": "code",
   "execution_count": 6,
   "metadata": {},
   "outputs": [
    {
     "name": "stdout",
     "output_type": "stream",
     "text": [
      "$29.95\n",
      "$8.37\n",
      "$15.26\n",
      "$19.25\n",
      "$19.25\n",
      "$13.99\n",
      "$31.57\n",
      "$8.49\n",
      "$14.47\n",
      "$15.86\n",
      "$11.11\n",
      "$15.98\n",
      "$16.27\n",
      "$7.50\n",
      "$50.85\n",
      "$14.26\n",
      "$5.68\n",
      "$15.00\n",
      "$114.07\n",
      "$10.09\n"
     ]
    }
   ],
   "source": [
    "# probamos con selectores css\n",
    "\n",
    "from bs4 import BeautifulSoup\n",
    "\n",
    "if __name__=='__main__': \n",
    "\n",
    "    with open ('econpy.html', 'r') as f:  \n",
    "        content = f.read()\n",
    "\n",
    "        soup = BeautifulSoup(content, 'html.parser') # html.parser is the parser used by BeautifulSoup\n",
    "\n",
    "        # 1 opcion\n",
    "        # for element in soup.find_all(attrs={'class':'item-price'}): # find_all busca todos los elementos que cumplan con la condicion de los selectores css\n",
    "\n",
    "        #     if element.name == 'span': # condicional para verificar que solo imprimi los elementos de la etiqueta span\n",
    "\n",
    "        #         print(element.text) # imprimimos el texto de los elementos que cumplan con la condicion de los selectores css\n",
    "\n",
    "        # 2 opcion la mejor forma\n",
    "for element in soup.find_all(class_='item-price'): # find_all busca todos los elementos que cumplan con la condicion de los selectores css\n",
    "    if element.name == 'span':\n",
    "        print(element.text)\n",
    "\n",
    "\n",
    "\n",
    "\n"
   ]
  }
 ],
 "metadata": {
  "interpreter": {
   "hash": "65b0796229cbd8a2e61bf42201827f493d81a5ad336c87ff3c7b390b2cacb211"
  },
  "kernelspec": {
   "display_name": "Python 3.8.12 64-bit ('web_scraping': conda)",
   "language": "python",
   "name": "python3"
  },
  "language_info": {
   "codemirror_mode": {
    "name": "ipython",
    "version": 3
   },
   "file_extension": ".py",
   "mimetype": "text/x-python",
   "name": "python",
   "nbconvert_exporter": "python",
   "pygments_lexer": "ipython3",
   "version": "3.8.12"
  },
  "orig_nbformat": 4
 },
 "nbformat": 4,
 "nbformat_minor": 2
}
